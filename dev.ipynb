{
 "cells": [
  {
   "cell_type": "code",
   "execution_count": 2,
   "id": "c828a535",
   "metadata": {},
   "outputs": [
    {
     "name": "stderr",
     "output_type": "stream",
     "text": [
      "c:\\Users\\chaoran\\Desktop\\photo-print-resize\\.venv\\Lib\\site-packages\\tqdm\\auto.py:21: TqdmWarning: IProgress not found. Please update jupyter and ipywidgets. See https://ipywidgets.readthedocs.io/en/stable/user_install.html\n",
      "  from .autonotebook import tqdm as notebook_tqdm\n"
     ]
    }
   ],
   "source": [
    "from pathlib import Path\n",
    "from PIL import Image\n",
    "from PIL import ImageDraw, ImageFont\n",
    "from PIL.ExifTags import TAGS\n",
    "import re\n",
    "from pillow_heif import register_heif_opener\n",
    "from tqdm.auto import tqdm\n",
    "register_heif_opener()  # Register HEIC support in Pillow"
   ]
  },
  {
   "cell_type": "code",
   "execution_count": null,
   "id": "943bdf75",
   "metadata": {},
   "outputs": [],
   "source": [
    "def find_date(img_path: str, im: Image.Image) -> str | None:\n",
    "    filename = Path(img_path).name\n",
    "    search = re.search('202[0-9][01][0-9][0-3][0-9]', filename)\n",
    "    date_str = None\n",
    "    if search:\n",
    "        date_str = search.group(0)\n",
    "        date_str = date_str[:4] + '-' + date_str[4:6] + '-' + date_str[6:8]\n",
    "    else:\n",
    "        exif = {}\n",
    "        exifdata = im.getexif()\n",
    "        for tag_id in exifdata:\n",
    "            # get the tag name, instead of human unreadable tag id\n",
    "            tag = TAGS.get(tag_id, tag_id)\n",
    "            data = exifdata.get(tag_id)\n",
    "            exif[tag] = data\n",
    "        date_str = exif.get('DateTime', None)\n",
    "        if date_str:\n",
    "            date_str = date_str[:10].replace(':', '-')\n",
    "    return date_str\n",
    "\n",
    "\n",
    "def draw_date(img_path: str, im: Image.Image) -> Image.Image:\n",
    "    im2 = im.copy()\n",
    "    w, h = im2.size\n",
    "    margin = int(0.05 * min(w, h))\n",
    "    x = margin\n",
    "    y = h - 1.2*margin\n",
    "    # Load a TTF font file\n",
    "    # Use a path to .ttf if not in system path\n",
    "    font = ImageFont.truetype(\"arial.ttf\", size=32)\n",
    "    draw = ImageDraw.Draw(im2)\n",
    "    text = find_date(img_path, im)\n",
    "    draw.text((x, y), text, font=font, fill=\"white\")\n",
    "    return im2\n",
    "\n",
    "\n",
    "def prepare_3R_photo(img_path: str, output_path: str|None = None, overwrite:bool = False) -> Image.Image | None:\n",
    "    \n",
    "    img_path:Path = Path(img_path)\n",
    "\n",
    "    if output_path:\n",
    "        output_file_path = Path(output_path).joinpath(Path(img_path).stem + '.jpg')\n",
    "        if output_file_path.exists() and (not overwrite):\n",
    "            return None\n",
    "\n",
    "    im = Image.open(img_path)\n",
    "    # Step 1: Crop to 10:7 or 7:10 based on orientation\n",
    "\n",
    "    def center_crop_to_aspect(im, aspect_w=10, aspect_h=7):\n",
    "        width, height = im.size\n",
    "        im_aspect = width / height\n",
    "        target_aspect = aspect_w / aspect_h\n",
    "\n",
    "        if im_aspect > 1:  # landscape\n",
    "            target_aspect = 10 / 7\n",
    "        else:\n",
    "            target_aspect = 7 / 10\n",
    "\n",
    "        if im_aspect > target_aspect:\n",
    "            new_width = int(height * target_aspect)\n",
    "            new_height = height\n",
    "        else:\n",
    "            new_width = width\n",
    "            new_height = int(width / target_aspect)\n",
    "\n",
    "        left = (width - new_width) // 2\n",
    "        top = (height - new_height) // 2\n",
    "        return im.crop((left, top, left + new_width, top + new_height))\n",
    "\n",
    "    im = center_crop_to_aspect(im)\n",
    "\n",
    "    # Step 2: Resize to 3R dimensions (at 300 DPI)\n",
    "\n",
    "    long = 1500\n",
    "    short = int(long / 10 * 7)\n",
    "\n",
    "    if im.width < im.height:\n",
    "        im = im.resize((short, long), Image.LANCZOS)\n",
    "    else:\n",
    "        im = im.resize((long, short), Image.LANCZOS)\n",
    "\n",
    "    im = draw_date(img_path, im)\n",
    "\n",
    "    if output_path:\n",
    "        output_file_path.parent.mkdir(exist_ok=True, parents=True)\n",
    "        if im.mode == \"RGBA\":\n",
    "            im = im.convert(\"RGB\")\n",
    "        im.save(output_file_path, format='JPEG')\n",
    "\n",
    "    return im"
   ]
  },
  {
   "cell_type": "code",
   "execution_count": 16,
   "id": "6da0ab0d",
   "metadata": {},
   "outputs": [
    {
     "name": "stderr",
     "output_type": "stream",
     "text": [
      "converting 3R photos: 100%|██████████| 309/309 [00:38<00:00,  7.95image/s]\n"
     ]
    }
   ],
   "source": [
    "input_dir = r\"C:\\Users\\chaoran\\Downloads\\ZiAn4\"\n",
    "jpg = sorted(Path(input_dir).glob(\"*.jpg\"))\n",
    "heic = sorted(Path(input_dir).glob(\"*.heic\"))\n",
    "png = sorted(Path(input_dir).glob(\"*.png\"))\n",
    "for img_path in tqdm(jpg + png + heic, desc = 'converting 3R photos', unit = 'image'):\n",
    "    _ = prepare_3R_photo(img_path, output_path='./output', overwrite=False)"
   ]
  }
 ],
 "metadata": {
  "kernelspec": {
   "display_name": "photo-print-resize",
   "language": "python",
   "name": "python3"
  },
  "language_info": {
   "codemirror_mode": {
    "name": "ipython",
    "version": 3
   },
   "file_extension": ".py",
   "mimetype": "text/x-python",
   "name": "python",
   "nbconvert_exporter": "python",
   "pygments_lexer": "ipython3",
   "version": "3.11.4"
  }
 },
 "nbformat": 4,
 "nbformat_minor": 5
}
